{
 "cells": [
  {
   "cell_type": "code",
   "execution_count": 1,
   "metadata": {},
   "outputs": [
    {
     "name": "stdout",
     "output_type": "stream",
     "text": [
      "猜猜我是誰?按q取消1\n",
      "你永遠猜不到\n",
      "猜猜我是誰?按q取消2\n",
      "你永遠猜不到\n",
      "猜猜我是誰?按q取消q\n"
     ]
    }
   ],
   "source": [
    "while True:\n",
    "    name = input(\"猜猜我是誰?按q取消\")\n",
    "    if name == 'q':\n",
    "        break\n",
    "    print('你永遠猜不到')    "
   ]
  },
  {
   "cell_type": "code",
   "execution_count": 4,
   "metadata": {},
   "outputs": [
    {
     "name": "stdout",
     "output_type": "stream",
     "text": [
      "輸入幸運數字!若猜不到要繼續猜d\n",
      "輸入幸運數字!若猜不到要繼續猜f\n",
      "輸入幸運數字!若猜不到要繼續猜7\n"
     ]
    }
   ],
   "source": [
    "while True:\n",
    "    name = input('輸入幸運數字!若猜不到要繼續猜')\n",
    "    if name == '7':\n",
    "        print('你猜到了')\n",
    "        break\n",
    "    elif name == 'q':\n",
    "        print('退出程式')\n",
    "        break\n",
    "    else:\n",
    "        continue\n",
    "        "
   ]
  },
  {
   "cell_type": "code",
   "execution_count": null,
   "metadata": {
    "collapsed": true
   },
   "outputs": [],
   "source": []
  }
 ],
 "metadata": {
  "kernelspec": {
   "display_name": "Python 3",
   "language": "python",
   "name": "python3"
  },
  "language_info": {
   "codemirror_mode": {
    "name": "ipython",
    "version": 3
   },
   "file_extension": ".py",
   "mimetype": "text/x-python",
   "name": "python",
   "nbconvert_exporter": "python",
   "pygments_lexer": "ipython3",
   "version": "3.6.3"
  }
 },
 "nbformat": 4,
 "nbformat_minor": 2
}
